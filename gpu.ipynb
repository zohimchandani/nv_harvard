{
 "cells": [
  {
   "cell_type": "code",
   "execution_count": 72,
   "metadata": {},
   "outputs": [],
   "source": [
    "# !pip install cupy-cuda12x\n",
    "\n",
    "import numpy as np \n",
    "import cupy as cp \n",
    "import time "
   ]
  },
  {
   "cell_type": "code",
   "execution_count": 73,
   "metadata": {},
   "outputs": [
    {
     "name": "stdout",
     "output_type": "stream",
     "text": [
      "Time taken by numpy:  161.40561747550964\n",
      "<CUDA Device 0>\n",
      "Time taken by cupy:  12.785258769989014\n"
     ]
    }
   ],
   "source": [
    "num_matrices = 10**5\n",
    "dimension = 100\n",
    "\n",
    "A = np.random.randn(num_matrices, dimension, dimension)\n",
    "\n",
    "start = time.time()\n",
    "eigvals, eigvecs = np.linalg.eigh(A)\n",
    "end = time.time()\n",
    "\n",
    "print(\"Time taken by numpy: \", end-start)\n",
    "\n",
    "A = cp.array(A)\n",
    "print(A.device)\n",
    "\n",
    "start = time.time()\n",
    "eigvals, eigvecs = cp.linalg.eigh(A)\n",
    "end = time.time()\n",
    "\n",
    "print(\"Time taken by cupy: \", end-start)\n"
   ]
  },
  {
   "cell_type": "code",
   "execution_count": null,
   "metadata": {},
   "outputs": [],
   "source": []
  }
 ],
 "metadata": {
  "kernelspec": {
   "display_name": "Python 3",
   "language": "python",
   "name": "python3"
  },
  "language_info": {
   "codemirror_mode": {
    "name": "ipython",
    "version": 3
   },
   "file_extension": ".py",
   "mimetype": "text/x-python",
   "name": "python",
   "nbconvert_exporter": "python",
   "pygments_lexer": "ipython3",
   "version": "3.10.12"
  }
 },
 "nbformat": 4,
 "nbformat_minor": 2
}
